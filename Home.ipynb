{
 "cells": [
  {
   "cell_type": "code",
   "execution_count": 1,
   "metadata": {},
   "outputs": [
    {
     "name": "stdout",
     "output_type": "stream",
     "text": [
      "2.0.2\n"
     ]
    }
   ],
   "source": [
    "import numpy as np\n",
    "\n",
    "import readligo as rl\n",
    "from gwpy.table import EventTable\n",
    "from gwpy.timeseries import TimeSeries\n",
    "\n",
    "import matplotlib.mlab as mlab\n",
    "from scipy.interpolate import interp1d\n",
    "import matplotlib.pyplot as plt\n",
    "\n",
    "import gwpy\n",
    "print(gwpy.__version__) # 2.0.2"
   ]
  },
  {
   "cell_type": "code",
   "execution_count": 2,
   "metadata": {},
   "outputs": [
    {
     "data": {
      "text/plain": [
       "['GW150914',\n",
       " 'GW151012',\n",
       " 'GW151226',\n",
       " 'GW170104',\n",
       " 'GW170608',\n",
       " 'GW170729',\n",
       " 'GW170809',\n",
       " 'GW170814',\n",
       " 'GW170817',\n",
       " 'GW170818',\n",
       " 'GW170823']"
      ]
     },
     "execution_count": 2,
     "metadata": {},
     "output_type": "execute_result"
    }
   ],
   "source": [
    "eventtable = EventTable.fetch_open_data(\"GWTC-1-confident\")\n",
    "eventtable['commonName'].tolist()"
   ]
  },
  {
   "cell_type": "markdown",
   "metadata": {},
   "source": [
    "- Select a GW events"
   ]
  },
  {
   "cell_type": "code",
   "execution_count": 3,
   "metadata": {},
   "outputs": [],
   "source": [
    "# BBH\n",
    "event_name = 'GW150914'\n",
    "# event_name = 'GW151012'\n",
    "# event_name = 'GW151226'\n",
    "# event_name = 'GW170104'\n",
    "# event_name = 'GW170608'\n",
    "# event_name = 'GW170729'\n",
    "# event_name = 'GW170809'\n",
    "# event_name = 'GW170814'\n",
    "# event_name = 'GW170818'\n",
    "# event_name = 'GW170823'"
   ]
  },
  {
   "cell_type": "markdown",
   "metadata": {},
   "source": [
    "---\n",
    "## Two ways to load data.\n",
    "\n",
    "- Way 1\n",
    "\n",
    "Download from GWOSC host..."
   ]
  },
  {
   "cell_type": "code",
   "execution_count": 4,
   "metadata": {},
   "outputs": [],
   "source": [
    "tevent = eventtable[eventtable['commonName'] == event_name]['GPS'].tolist()[0]\n",
    "sample_rates = 8192 # [Hz]\n",
    "tag = 'CLN' #'C00'\n",
    "\n",
    "# Download 32sec open data from GWOSC (It may takes a few minutes...)\n",
    "data_H1 = TimeSeries.fetch_open_data(ifo='H1', \n",
    "                                     start=tevent-16,\n",
    "                                     end=tevent+16,\n",
    "                                     sample_rate=sample_rates*2, # 4096Hz or 16384Hz\n",
    "                                     tag=tag)\n",
    "strain_H1 = data_H1.value[::2]  # 16384Hz -> 8192Hz\n",
    "data_L1 = TimeSeries.fetch_open_data(ifo='L1', \n",
    "                                     start=tevent-16,\n",
    "                                     end=tevent+16,\n",
    "                                     sample_rate=sample_rates*2, # 4096Hz or 16384Hz\n",
    "                                     tag=tag)\n",
    "strain_L1 = data_L1.value[::2]\n",
    "try:\n",
    "    data_V1 = TimeSeries.fetch_open_data(ifo='V1', \n",
    "                                         start=tevent-16,\n",
    "                                         end=tevent+16,\n",
    "                                         sample_rate=sample_rates*2, # 4096Hz or 16384Hz\n",
    "                                         tag=tag)\n",
    "    strain_V1 = data_V1.value[::2]\n",
    "except ValueError:\n",
    "    print('No V1 data for {}'.format(event_name))\n",
    "\n",
    "# both H1 and L1 (and V1) will have the same time vector, so:\n",
    "time = data_H1.times.value[::2]    "
   ]
  },
  {
   "cell_type": "markdown",
   "metadata": {},
   "source": [
    "- Way 2\n",
    "\n",
    "Use local downloaded data. (`./hdf5`)"
   ]
  },
  {
   "cell_type": "code",
   "execution_count": 5,
   "metadata": {},
   "outputs": [
    {
     "name": "stderr",
     "output_type": "stream",
     "text": [
      "/Users/herb/anaconda3/lib/python3.7/site-packages/h5py/_hl/dataset.py:313: H5pyDeprecationWarning: dataset.value has been deprecated. Use dataset[()] instead.\n",
      "  \"Use dataset[()] instead.\", H5pyDeprecationWarning)\n"
     ]
    }
   ],
   "source": [
    "tevent = eventtable[eventtable['commonName'] == event_name]['GPS'].tolist()[0]\n",
    "sample_rates = 8192 # [Hz]\n",
    "\n",
    "if event_name == 'GW150914':\n",
    "    fn_H1 = './hdf5/H-H1_GWOSC_16KHZ_R1-1126259447-32.hdf5'\n",
    "    fn_L1 = './hdf5/L-L1_GWOSC_16KHZ_R1-1126259447-32.hdf5'\n",
    "elif event_name == 'GW151012':\n",
    "    fn_H1 = './hdf5/-H1_GWOSC_16KHZ_R1-1128678885-32.hdf5'\n",
    "    fn_L1 = './hdf5/L-L1_GWOSC_16KHZ_R1-1128678885-32.hdf5'\n",
    "elif event_name == 'GW151226':\n",
    "    fn_H1 = './hdf5/H-H1_GWOSC_16KHZ_R1-1135136335-32.hdf5'\n",
    "    fn_L1 = './hdf5/L-L1_GWOSC_16KHZ_R1-1135136335-32.hdf5'\n",
    "elif event_name == 'GW170104':\n",
    "    fn_H1 = './hdf5/H-H1_GWOSC_16KHZ_R1-1167559921-32.hdf5'\n",
    "    fn_L1 = './hdf5/L-L1_GWOSC_16KHZ_R1-1167559921-32.hdf5'\n",
    "elif event_name == 'GW170608':\n",
    "    fn_H1 = './hdf5/H-H1_GWOSC_16KHZ_R1-1180922479-32.hdf5'\n",
    "    fn_L1 = './hdf5/L-L1_GWOSC_16KHZ_R1-1180922479-32.hdf5'\n",
    "elif event_name == 'GW170823':\n",
    "    fn_H1 = './hdf5/H-H1_GWOSC_16KHZ_R1-1187529241-32.hdf5'\n",
    "    fn_L1 = './hdf5/L-L1_GWOSC_16KHZ_R1-1187529241-32.hdf5'\n",
    "elif event_name == 'GW170729':\n",
    "    fn_H1 = './hdf5/H-H1_GWOSC_16KHZ_R1-1185389792-32.hdf5'\n",
    "    fn_L1 = './hdf5/L-L1_GWOSC_16KHZ_R1-1185389792-32.hdf5'\n",
    "    fn_V1 = './hdf5/V-V1_GWOSC_16KHZ_R1-1185389792-32.hdf5'\n",
    "elif event_name == 'GW170809':\n",
    "    fn_H1 = './hdf5/H-H1_GWOSC_16KHZ_R1-1186302504-32.hdf5'\n",
    "    fn_L1 = './hdf5/L-L1_GWOSC_16KHZ_R1-1186302504-32.hdf5'\n",
    "    fn_V1 = './hdf5/V-V1_GWOSC_16KHZ_R1-1186302504-32.hdf5'\n",
    "elif event_name == 'GW170814':\n",
    "    fn_H1 = './hdf5/H-H1_GWOSC_16KHZ_R1-1186741846-32.hdf5'\n",
    "    fn_L1 = './hdf5/L-L1_GWOSC_16KHZ_R1-1186741846-32.hdf5'\n",
    "    fn_V1 = './hdf5/V-V1_GWOSC_16KHZ_R1-1186741846-32.hdf5'\n",
    "elif event_name == 'GW170818':\n",
    "    fn_H1 = './hdf5/H-H1_GWOSC_16KHZ_R1-1187058312-32.hdf5'\n",
    "    fn_L1 = './hdf5/L-L1_GWOSC_16KHZ_R1-1187058312-32.hdf5'\n",
    "    fn_V1 = './hdf5/V-V1_GWOSC_16KHZ_R1-1187058312-32.hdf5'\n",
    "\n",
    "\n",
    "# read in data from H1 and L1, if available:\n",
    "strain_H1, time_H1, chan_dict_H1 = rl.loaddata(fn_H1, 'H1')\n",
    "strain_L1, time_L1, chan_dict_L1 = rl.loaddata(fn_L1, 'L1')\n",
    "strain_H1 = strain_H1[::2]  # 16384Hz -> 8192Hz\n",
    "strain_L1 = strain_L1[::2]\n",
    "try:\n",
    "    strain_V1, time_V1, chan_dict_V1 = rl.loaddata(fn_V1, 'V1')\n",
    "    strain_V1 = strain_V1[::2]\n",
    "except NameError:\n",
    "    pass\n",
    "\n",
    "time_H1 = time_H1[::2]\n",
    "# both H1 and L1 will have the same time vector, so:\n",
    "time = time_H1"
   ]
  },
  {
   "cell_type": "markdown",
   "metadata": {},
   "source": [
    "---"
   ]
  },
  {
   "cell_type": "code",
   "execution_count": 6,
   "metadata": {},
   "outputs": [
    {
     "data": {
      "image/png": "[encoded data removed]",
      "text/plain": [
       "<Figure size 432x288 with 1 Axes>"
      ]
     },
     "metadata": {
      "needs_background": "light"
     },
     "output_type": "display_data"
    }
   ],
   "source": [
    "# the time sample interval (uniformly sampled!)\n",
    "dt = time[1] - time[0]\n",
    "assert 1/dt == sample_rates\n",
    "\n",
    "# Plot\n",
    "deltat = 0.5\n",
    "shiftt = 0.3\n",
    "\n",
    "indxt = np.where((time >= tevent-deltat-shiftt) & (time < tevent+deltat-shiftt))\n",
    "\n",
    "plt.figure()\n",
    "plt.plot(time[indxt]-tevent,strain_H1[indxt],'r',label='H1 strain')\n",
    "plt.plot(time[indxt]-tevent,strain_L1[indxt],'g',label='L1 strain')\n",
    "try:\n",
    "    plt.plot(time[indxt]-tevent,strain_V1[indxt],'b',label='V1 strain')\n",
    "except NameError:\n",
    "    pass\n",
    "plt.xlabel('time (s) since '+str(tevent))\n",
    "plt.ylabel('strain')\n",
    "plt.legend(loc='lower right')\n",
    "plt.title('Advanced LIGO strain data near '+event_name)\n",
    "plt.show()"
   ]
  },
  {
   "cell_type": "code",
   "execution_count": 7,
   "metadata": {},
   "outputs": [],
   "source": [
    "# function to whiten data\n",
    "def whiten(strain, interp_psd, dt):\n",
    "    Nt = len(strain)\n",
    "    freqs = np.fft.rfftfreq(Nt, dt)\n",
    "    freqs1 = np.linspace(0,2048.,Nt//2+1)\n",
    "\n",
    "    # whitening: transform to freq domain, divide by asd, then transform back, \n",
    "    # taking care to get normalization right.\n",
    "    hf = np.fft.rfft(strain)\n",
    "    norm = 1./np.sqrt(1./(dt*2))\n",
    "    white_hf = hf / np.sqrt(interp_psd(freqs)) * norm\n",
    "    white_ht = np.fft.irfft(white_hf, n=Nt)\n",
    "    return white_ht\n",
    "\n",
    "# number of sample for the fast fourier transform:\n",
    "NFFT = 2* sample_rates\n",
    "Pxx_H1, freqs = mlab.psd(strain_H1, Fs = sample_rates, NFFT = NFFT)\n",
    "Pxx_L1, freqs = mlab.psd(strain_L1, Fs = sample_rates, NFFT = NFFT)\n",
    "try:\n",
    "    Pxx_V1, freqs = mlab.psd(strain_V1, Fs = sample_rates, NFFT = NFFT)\n",
    "except NameError:\n",
    "    pass\n",
    "\n",
    "# We will use interpolations of the ASDs computed above for whitening:\n",
    "psd_H1 = interp1d(freqs, Pxx_H1)\n",
    "psd_L1 = interp1d(freqs, Pxx_L1)\n",
    "try:\n",
    "    psd_V1 = interp1d(freqs, Pxx_V1)\n",
    "except NameError:\n",
    "    pass"
   ]
  },
  {
   "cell_type": "code",
   "execution_count": 8,
   "metadata": {},
   "outputs": [],
   "source": [
    "# now whiten the data from H1 and L1, and the template (use H1 PSD):\n",
    "strain_H1_whiten = whiten(strain_H1,psd_H1,dt)\n",
    "strain_L1_whiten = whiten(strain_L1,psd_L1,dt)\n",
    "try:\n",
    "    strain_V1_whiten = whiten(strain_V1,psd_V1,dt)\n",
    "except NameError:\n",
    "    pass"
   ]
  },
  {
   "cell_type": "code",
   "execution_count": 9,
   "metadata": {},
   "outputs": [
    {
     "data": {
      "text/plain": [
       "Text(0.5, 1.0, 'Advanced LIGO strain data near GW150914')"
      ]
     },
     "execution_count": 9,
     "metadata": {},
     "output_type": "execute_result"
    },
    {
     "data": {
      "image/png": "[encoded data removed]",
      "text/plain": [
       "<Figure size 432x288 with 1 Axes>"
      ]
     },
     "metadata": {
      "needs_background": "light"
     },
     "output_type": "display_data"
    }
   ],
   "source": [
    "# Plot\n",
    "deltat = 0.5\n",
    "shiftt = 0.3\n",
    "\n",
    "indxt = np.where((time >= tevent-deltat-shiftt) & (time < tevent+deltat-shiftt))\n",
    "\n",
    "plt.figure()\n",
    "plt.plot(time[indxt]-tevent,strain_H1_whiten[indxt],'r',label='H1 strain')\n",
    "plt.plot(time[indxt]-tevent,strain_L1_whiten[indxt],'g',label='L1 strain')\n",
    "try:\n",
    "    plt.plot(time[indxt]-tevent,strain_V1_whiten[indxt],'b',label='V1 strain')\n",
    "except NameError:\n",
    "    pass\n",
    "plt.xlabel('time (s) since '+str(tevent))\n",
    "plt.ylabel('strain')\n",
    "plt.legend(loc='lower right')\n",
    "plt.title('Advanced LIGO strain data near '+event_name)\n",
    "plt.show()"
   ]
  },
  {
   "cell_type": "code",
   "execution_count": 10,
   "metadata": {},
   "outputs": [],
   "source": [
    "# Save GW event\n",
    "np.savetxt('./{}_H1_{}Hz_{}sec_whiten.txt'.format(event_name, sample_rates, indxt[0].size/sample_rates), np.asarray([time[indxt],strain_H1_whiten[indxt]]).T)\n",
    "np.savetxt('./{}_L1_{}Hz_{}sec_whiten.txt'.format(event_name, sample_rates, indxt[0].size/sample_rates), np.asarray([time[indxt],strain_L1_whiten[indxt]]).T)\n",
    "try:\n",
    "    np.savetxt('./{}_V1_{}Hz_{}sec_whiten.txt'.format(event_name, sample_rates, indxt[0].size/sample_rates), np.asarray([time[indxt],strain_V1_whiten[indxt]]).T)\n",
    "except NameError:\n",
    "    pass"
   ]
  },
  {
   "cell_type": "code",
   "execution_count": 11,
   "metadata": {},
   "outputs": [
    {
     "name": "stdout",
     "output_type": "stream",
     "text": [
      "1\n",
      "2\n",
      "3\n",
      "4\n"
     ]
    }
   ],
   "source": [
    "# Save noises\n",
    "deltat = 0.5\n",
    "shiftt = 0.3\n",
    "for i in range(1,4+1):\n",
    "    indxt = np.where((time >= tevent-deltat-(i+0)-shiftt) & (time < tevent+deltat-(i+0)-shiftt))\n",
    "\n",
    "    # plt.figure()\n",
    "    # plt.plot(time[indxt]-tevent,strain_H1_whiten[indxt],'r',label='H1 strain')\n",
    "    # plt.plot(time[indxt]-tevent,strain_L1_whiten[indxt],'g',label='L1 strain')\n",
    "    # plt.xlabel('time (s) since '+str(tevent))\n",
    "    # plt.ylabel('strain')\n",
    "    # plt.legend(loc='lower right')\n",
    "    # plt.title('Advanced LIGO strain data near '+eventname)\n",
    "    print(i)\n",
    "    np.savetxt('./{}noise_{}_H1_{}Hz_{}sec_whiten.txt'.format(event_name, i, sample_rates, indxt[0].size/sample_rates), np.asarray([time[indxt],strain_H1_whiten[indxt]]).T)\n",
    "    np.savetxt('./{}noise_{}_L1_{}Hz_{}sec_whiten.txt'.format(event_name, i, sample_rates, indxt[0].size/sample_rates), np.asarray([time[indxt],strain_L1_whiten[indxt]]).T)\n",
    "    try:\n",
    "        np.savetxt('./{}noise_{}_V1_{}Hz_{}sec_whiten.txt'.format(event_name, i, sample_rates, indxt[0].size/sample_rates), np.asarray([time[indxt],strain_V1_whiten[indxt]]).T)\n",
    "    except NameError:\n",
    "        pass        "
   ]
  },
  {
   "cell_type": "code",
   "execution_count": null,
   "metadata": {},
   "outputs": [],
   "source": []
  }
 ],
 "metadata": {
  "kernelspec": {
   "display_name": "Python 3",
   "language": "python",
   "name": "python3"
  },
  "language_info": {
   "codemirror_mode": {
    "name": "ipython",
    "version": 3
   },
   "file_extension": ".py",
   "mimetype": "text/x-python",
   "name": "python",
   "nbconvert_exporter": "python",
   "pygments_lexer": "ipython3",
   "version": "3.7.3"
  },
  "toc-autonumbering": false
 },
 "nbformat": 4,
 "nbformat_minor": 4
}
